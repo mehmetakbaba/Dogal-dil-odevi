{
 "cells": [
  {
   "cell_type": "code",
   "execution_count": 10,
   "id": "a2acf1b6",
   "metadata": {},
   "outputs": [
    {
     "name": "stdout",
     "output_type": "stream",
     "text": [
      "Collecting snscrape\n",
      "  Downloading snscrape-0.4.3.20220106-py3-none-any.whl (59 kB)\n",
      "Requirement already satisfied: lxml in c:\\users\\mehmet\\anaconda3\\lib\\site-packages (from snscrape) (4.6.3)\n",
      "Requirement already satisfied: requests[socks] in c:\\users\\mehmet\\anaconda3\\lib\\site-packages (from snscrape) (2.28.1)\n",
      "Requirement already satisfied: filelock in c:\\users\\mehmet\\anaconda3\\lib\\site-packages (from snscrape) (3.3.1)\n",
      "Requirement already satisfied: beautifulsoup4 in c:\\users\\mehmet\\anaconda3\\lib\\site-packages (from snscrape) (4.10.0)\n",
      "Requirement already satisfied: soupsieve>1.2 in c:\\users\\mehmet\\anaconda3\\lib\\site-packages (from beautifulsoup4->snscrape) (2.2.1)\n",
      "Requirement already satisfied: charset-normalizer<3,>=2 in c:\\users\\mehmet\\anaconda3\\lib\\site-packages (from requests[socks]->snscrape) (2.0.4)\n",
      "Requirement already satisfied: idna<4,>=2.5 in c:\\users\\mehmet\\anaconda3\\lib\\site-packages (from requests[socks]->snscrape) (3.2)\n",
      "Requirement already satisfied: certifi>=2017.4.17 in c:\\users\\mehmet\\anaconda3\\lib\\site-packages (from requests[socks]->snscrape) (2021.10.8)\n",
      "Requirement already satisfied: urllib3<1.27,>=1.21.1 in c:\\users\\mehmet\\anaconda3\\lib\\site-packages (from requests[socks]->snscrape) (1.26.7)\n",
      "Requirement already satisfied: PySocks!=1.5.7,>=1.5.6 in c:\\users\\mehmet\\anaconda3\\lib\\site-packages (from requests[socks]->snscrape) (1.7.1)\n",
      "Installing collected packages: snscrape\n",
      "Successfully installed snscrape-0.4.3.20220106\n",
      "Note: you may need to restart the kernel to use updated packages.\n"
     ]
    }
   ],
   "source": [
    "#pip install snscrape\n",
    "#pip install emoji"
   ]
  },
  {
   "cell_type": "code",
   "execution_count": 196,
   "id": "42145b74",
   "metadata": {},
   "outputs": [],
   "source": [
    "\n",
    "\n",
    "import snscrape.modules.twitter as sntwitter\n",
    "\n",
    "import pandas as pd\n",
    "import json\n",
    "from datetime import datetime\n",
    "import time\n",
    "import random\n",
    "#from dotenv import load_dotenv\n",
    "import os"
   ]
  },
  {
   "cell_type": "code",
   "execution_count": 197,
   "id": "b4bbad6a",
   "metadata": {},
   "outputs": [
    {
     "name": "stdout",
     "output_type": "stream",
     "text": [
      "                          Date             User  \\\n",
      "0    2023-01-06 10:34:43+00:00  AynurKa45321949   \n",
      "1    2023-01-06 10:33:23+00:00  Paradox29495577   \n",
      "2    2023-01-06 10:31:54+00:00          ysfspor   \n",
      "3    2023-01-06 10:25:24+00:00       YabguNoyan   \n",
      "4    2023-01-06 10:24:37+00:00    lemmyramone31   \n",
      "...                        ...              ...   \n",
      "9995 2022-11-13 12:24:54+00:00         pamukkk0   \n",
      "9996 2022-11-13 12:23:21+00:00     muzo32515078   \n",
      "9997 2022-11-13 11:37:32+00:00  Mustafa48629317   \n",
      "9998 2022-11-13 11:13:25+00:00      colakrengin   \n",
      "9999 2022-11-13 11:09:02+00:00   cevhercengiz65   \n",
      "\n",
      "                                                  Tweet  \n",
      "0     @fatihportakal 6li masa boyle devam ederse 10 ...  \n",
      "1     @akillanmiyorum @HanWizzLy @pusholder Erdoğani...  \n",
      "2               Sinirden 6lı masa bile yazamadım hahaha  \n",
      "3     @eminpazarci Ferrari (Reis) ile el arabasını (...  \n",
      "4                        @karargah_haber 6lı masa based  \n",
      "...                                                 ...  \n",
      "9995  @AtillaTasNet Siz daha masanın altından ne zam...  \n",
      "9996  @halktvcomtr Çok doğru konuşuyor Süleyman soyl...  \n",
      "9997  @iyi_glck Ortağınız 6li masa müdürü 10 seçim k...  \n",
      "9998  Birbirinizi yemeyin İyi Parti de 6lı masa da H...  \n",
      "9999  6lı masa aday göstermede temkinli ve kararlı d...  \n",
      "\n",
      "[10000 rows x 3 columns]\n"
     ]
    }
   ],
   "source": [
    "query = \"6lı masa\"\n",
    "tweets = []\n",
    "limit = 10000\n",
    "for tweet in sntwitter.TwitterSearchScraper(query).get_items():\n",
    "    if len(tweets) == limit:\n",
    "        break\n",
    "    else:\n",
    "        tweets.append([tweet.date, tweet.user.username, tweet.content])\n",
    "        \n",
    "        \n",
    "df = pd.DataFrame(tweets, columns=['Date','User','Tweet']) \n",
    "print(df)"
   ]
  },
  {
   "cell_type": "code",
   "execution_count": 198,
   "id": "321354a8",
   "metadata": {},
   "outputs": [
    {
     "name": "stderr",
     "output_type": "stream",
     "text": [
      "[nltk_data] Downloading package stopwords to\n",
      "[nltk_data]     C:\\Users\\Mehmet\\AppData\\Roaming\\nltk_data...\n",
      "[nltk_data]   Package stopwords is already up-to-date!\n"
     ]
    }
   ],
   "source": [
    "import snscrape.modules.twitter as sntwitter\n",
    "from datetime import datetime\n",
    "import time\n",
    "import random\n",
    "import pandas as pd\n",
    "\n",
    "import os\n",
    "import textdistance\n",
    "import nltk\n",
    "import emoji\n",
    "nltk.download('stopwords')\n",
    "\n",
    "from nltk.corpus import stopwords"
   ]
  },
  {
   "cell_type": "code",
   "execution_count": 199,
   "id": "f281ac3c",
   "metadata": {},
   "outputs": [],
   "source": [
    "import re\n",
    "import string\n",
    "\n",
    "def clean_tweet(tweet):\n",
    "    tweet=tweet.lower()\n",
    "     # Tweet içindeki emoji'leri temizleyin\n",
    "    tweet = emoji.demojize(tweet)\n",
    "    tweet = re.sub(\":smiling_face_with_smiling_eyes\", \"\", tweet)\n",
    "    tweet=re.sub(\"https?://\\S+\",\"\",tweet)\n",
    "    tweet = tweet.replace(\"\\n\", \" \")\n",
    "\n",
    "    tweet = tweet.translate(str.maketrans(\"\", \"\", string.punctuation))\n",
    "    tweet_tokens = tweet.split(\" \")\n",
    "    filtered_tokens = [token for token in tweet_tokens if token not in stopwords.words('english') and token not in stopwords.words('turkish')]\n",
    "    tweet = \" \".join(filtered_tokens)\n",
    "\n",
    "    # Kendi stopwords listesi oluşturun\n",
    "    stopwords_list = sorted([\"özgürlük\",\"emek\",\"ortak\",\"ttifakı\",\"seçeneğine\",\"yakınız\",\"ttifakından\",\"yakın\",\"aday\",\"6\",\n",
    "                        \"altı\",\"masa\",\"olacak\",\"lı\",\"tek\",\"adayı\",\"çıkaracağız\",\"masanın\",\"kesinlikle\"\n",
    "                        \"masadan\",\"bir\",\"seçim\",\"var\",\"oy\",\"ttifakı\",\"ilan\",\"\"])\n",
    "    \n",
    "    # Tweet içindeki kendi stopwords'lerini temizleyin\n",
    "    filtered_tokens = [token for token in filtered_tokens if token not in stopwords_list]\n",
    "    tweet = \" \".join(filtered_tokens)\n",
    "\n",
    "   \n",
    "    # Boşluk karakterlerini temizleyin\n",
    "    tweet = tweet.strip()\n",
    "    \n",
    "    # Sayıları temizleyin\n",
    "    tweet = re.sub(r'\\d+', '', tweet)\n",
    "    \n",
    "    # @mentions'ları temizleyin\n",
    "    tweet = re.sub(r'@[\\w_]+', '', tweet)\n",
    "    \n",
    "    # #hashtags'leri temizleyin\n",
    "    tweet = re.sub(r'#[\\w_]+', '', tweet)\n",
    "\n",
    "    \n",
    "\n",
    "    \n",
    "    \n",
    "    return tweet"
   ]
  },
  {
   "cell_type": "code",
   "execution_count": 200,
   "id": "cd2f5515",
   "metadata": {},
   "outputs": [],
   "source": [
    "\n",
    "\n",
    "df[\"clean\"] = df.apply(lambda row: clean_tweet(row[\"Tweet\"]), axis=1)\n",
    "\n"
   ]
  },
  {
   "cell_type": "code",
   "execution_count": 201,
   "id": "dcf0ee59",
   "metadata": {},
   "outputs": [],
   "source": [
    "clean = df.clean"
   ]
  },
  {
   "cell_type": "code",
   "execution_count": 202,
   "id": "a5340924",
   "metadata": {},
   "outputs": [],
   "source": [
    "cleanList = []\n",
    "altiliMasa = [\"kemal\",\"kılıçdaroğlu\",\"meral\",\"akşener\",\"temel\",\"karamollaoğlu\",\"güntekin\",\"uysal\",\"ali\",\"babacan\",\"ahmet\",\"davutoğlu\"]"
   ]
  },
  {
   "cell_type": "code",
   "execution_count": 203,
   "id": "c5e3c190",
   "metadata": {},
   "outputs": [
    {
     "data": {
      "text/plain": [
       "3"
      ]
     },
     "execution_count": 203,
     "metadata": {},
     "output_type": "execute_result"
    }
   ],
   "source": [
    "\n",
    "for i in range(len(clean)):\n",
    "    cleanList.append(clean[i].split(\" \"))\n",
    "\n",
    "\n",
    "len(cleanList[4])"
   ]
  },
  {
   "cell_type": "code",
   "execution_count": 204,
   "id": "9b292acb",
   "metadata": {},
   "outputs": [],
   "source": [
    "kk = 0\n",
    "ma = 0\n",
    "tk = 0\n",
    "gu = 0\n",
    "ab = 0\n",
    "ad = 0\n",
    "popularList = []\n",
    "for i in range(limit):\n",
    "    for y in range(len(cleanList[i])):\n",
    "        for x in range(11):\n",
    "            if cleanList[i][y] == altiliMasa[x]:\n",
    "                if x == 0 or x == 1:\n",
    "                    kk = kk + 1\n",
    "                elif x == 2 or x == 3:\n",
    "                    ma = ma+1\n",
    "                elif x == 4 or x == 5:\n",
    "                    tk == tk+1\n",
    "                elif x == 6 or x == 7:\n",
    "                    gu = gu+1\n",
    "                elif x == 8 or x == 9:\n",
    "                    ab = ab+1\n",
    "                elif x == 10 or x == 11:\n",
    "                    ad = ad+1\n",
    "EnCokKonusulanLider = {\"kemal kılıçdaroğlu\": kk,\n",
    "                  \"meral akşaner\": ma,\n",
    "                  \"temel karamalloğlu\": tk,\n",
    "                  \"güntekin uysal\": gu,\n",
    "                  \"ali babacan\": ab,\n",
    "                  \"ahmet davutoğlu\": ad,}  "
   ]
  },
  {
   "cell_type": "code",
   "execution_count": 205,
   "id": "da07b8d9",
   "metadata": {},
   "outputs": [
    {
     "data": {
      "text/plain": [
       "{'kemal kılıçdaroğlu': 635,\n",
       " 'meral akşaner': 447,\n",
       " 'temel karamalloğlu': 0,\n",
       " 'güntekin uysal': 14,\n",
       " 'ali babacan': 210,\n",
       " 'ahmet davutoğlu': 48}"
      ]
     },
     "execution_count": 205,
     "metadata": {},
     "output_type": "execute_result"
    }
   ],
   "source": [
    "EnCokKonusulanLider"
   ]
  },
  {
   "cell_type": "code",
   "execution_count": 206,
   "id": "bb99c5c5",
   "metadata": {},
   "outputs": [],
   "source": [
    "clean.to_csv('clean.csv')"
   ]
  },
  {
   "cell_type": "code",
   "execution_count": null,
   "id": "301d4a80",
   "metadata": {},
   "outputs": [],
   "source": []
  },
  {
   "cell_type": "code",
   "execution_count": null,
   "id": "958f2e15",
   "metadata": {},
   "outputs": [],
   "source": []
  },
  {
   "cell_type": "code",
   "execution_count": null,
   "id": "a3d17f12",
   "metadata": {},
   "outputs": [],
   "source": []
  }
 ],
 "metadata": {
  "kernelspec": {
   "display_name": "Python 3 (ipykernel)",
   "language": "python",
   "name": "python3"
  },
  "language_info": {
   "codemirror_mode": {
    "name": "ipython",
    "version": 3
   },
   "file_extension": ".py",
   "mimetype": "text/x-python",
   "name": "python",
   "nbconvert_exporter": "python",
   "pygments_lexer": "ipython3",
   "version": "3.9.7"
  }
 },
 "nbformat": 4,
 "nbformat_minor": 5
}
